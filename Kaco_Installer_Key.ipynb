{
  "nbformat": 4,
  "nbformat_minor": 0,
  "metadata": {
    "colab": {
      "provenance": [],
      "authorship_tag": "ABX9TyOXlHwWUkfXG5qwXIriSm10",
      "include_colab_link": true
    },
    "kernelspec": {
      "name": "python3",
      "display_name": "Python 3"
    },
    "language_info": {
      "name": "python"
    }
  },
  "cells": [
    {
      "cell_type": "markdown",
      "metadata": {
        "id": "view-in-github",
        "colab_type": "text"
      },
      "source": [
        "<a href=\"https://colab.research.google.com/github/trixing/kaco-http/blob/main/Kaco_Installer_Key.ipynb\" target=\"_parent\"><img src=\"https://colab.research.google.com/assets/colab-badge.svg\" alt=\"Open In Colab\"/></a>"
      ]
    },
    {
      "cell_type": "code",
      "source": [
        "!pip install pycryptodome\n"
      ],
      "metadata": {
        "colab": {
          "base_uri": "https://localhost:8080/"
        },
        "id": "4rN6pABPmTU1",
        "outputId": "c12d93d5-a9dd-4ac8-9458-7845e66867cb"
      },
      "execution_count": 5,
      "outputs": [
        {
          "output_type": "stream",
          "name": "stdout",
          "text": [
            "Requirement already satisfied: pycryptodome in /usr/local/lib/python3.10/dist-packages (3.19.0)\n"
          ]
        }
      ]
    },
    {
      "cell_type": "code",
      "source": [
        "from Crypto.Cipher import AES\n",
        "from Crypto import Random\n",
        "\n",
        "import base64\n",
        "import hashlib\n",
        "import random\n",
        "import sys"
      ],
      "metadata": {
        "id": "y0hxNtUimB1W"
      },
      "execution_count": 6,
      "outputs": []
    },
    {
      "cell_type": "code",
      "execution_count": 7,
      "metadata": {
        "id": "DdBaQsvXlpyX"
      },
      "outputs": [],
      "source": [
        "\n",
        "\n",
        "\n",
        "def pad(plain_text):\n",
        "    \"\"\"\n",
        "    func to pad cleartext to be multiples of 8-byte blocks.\n",
        "    If you want to encrypt a text message that is not multiples of 8-byte blocks,\n",
        "    the text message must be padded with additional bytes to make the text message to be multiples of 8-byte blocks.\n",
        "    \"\"\"\n",
        "    block_size = AES.block_size\n",
        "    number_of_bytes_to_pad = block_size - len(plain_text) % block_size\n",
        "    ascii_string = chr(number_of_bytes_to_pad)\n",
        "    padding_str = number_of_bytes_to_pad * ascii_string\n",
        "    padded_plain_text =  plain_text + padding_str\n",
        "    return padded_plain_text\n",
        "\n",
        "\n",
        "def generatePassword(isn):\n",
        "    plain = pad(isn)\n",
        "    key = 'KA%C!200@121^23_'   # top secret\n",
        "\n",
        "    # AES.java\n",
        "\n",
        "    cipher = AES.new(bytes(key.encode('UTF-8')), AES.MODE_ECB)\n",
        "    encrypted_bytes = cipher.encrypt(bytes(plain.encode('UTF-8')))\n",
        "\n",
        "    encrypted_text = base64.b64encode(encrypted_bytes).decode(\"utf-8\")\n",
        "    print('Encrypted Text: ' + encrypted_text)\n",
        "\n",
        "    # CipherUtil.java\n",
        "    # encodeByMD5\n",
        "    # byteArrayToHexString(MessageDigest.getInstance(\"MD5\").digest(str.getBytes())).toUpperCase();\n",
        "    md5_text = hashlib.md5(encrypted_text.encode('utf-8')).hexdigest().upper()\n",
        "    print('MD5 Text: ' + md5_text)\n",
        "\n",
        "    # generatePasswordL16 return encodeByMD5(str).substring(8, 24);\n",
        "    l16_text = md5_text[8:24]\n",
        "    print('L16 Text: ' + l16_text)\n",
        "\n",
        "    # generatePasswordL4 return generatePasswordL16(str).substring(3, 7);\n",
        "    l4_text = l16_text[3:7]\n",
        "    print('L4 Text (your key): ' + l4_text)\n",
        "\n",
        "    return l4_text\n",
        "\n"
      ]
    },
    {
      "cell_type": "code",
      "source": [
        "sn = \"5.0NX312006139\"\n",
        "generatePassword(sn)"
      ],
      "metadata": {
        "colab": {
          "base_uri": "https://localhost:8080/",
          "height": 105
        },
        "id": "5rtrCc5ll2Rc",
        "outputId": "1714d1dd-dc32-4337-e307-e3bb4dfda130"
      },
      "execution_count": 8,
      "outputs": [
        {
          "output_type": "stream",
          "name": "stdout",
          "text": [
            "Encrypted Text: MrrSckOBDWOwPP9mJC4+Zg==\n",
            "MD5 Text: 08EEB33E16E30F6F57AE6F73D5480A8A\n",
            "L16 Text: 16E30F6F57AE6F73\n",
            "L4 Text (your key): 30F6\n"
          ]
        },
        {
          "output_type": "execute_result",
          "data": {
            "text/plain": [
              "'30F6'"
            ],
            "application/vnd.google.colaboratory.intrinsic+json": {
              "type": "string"
            }
          },
          "metadata": {},
          "execution_count": 8
        }
      ]
    }
  ]
}